{
 "cells": [
  {
   "cell_type": "code",
   "execution_count": 15,
   "id": "e0868c65",
   "metadata": {},
   "outputs": [
    {
     "data": {
      "text/html": [
       "<div>\n",
       "<style scoped>\n",
       "    .dataframe tbody tr th:only-of-type {\n",
       "        vertical-align: middle;\n",
       "    }\n",
       "\n",
       "    .dataframe tbody tr th {\n",
       "        vertical-align: top;\n",
       "    }\n",
       "\n",
       "    .dataframe thead th {\n",
       "        text-align: right;\n",
       "    }\n",
       "</style>\n",
       "<table border=\"1\" class=\"dataframe\">\n",
       "  <thead>\n",
       "    <tr style=\"text-align: right;\">\n",
       "      <th></th>\n",
       "      <th>age</th>\n",
       "      <th>workclass</th>\n",
       "      <th>fnlwgt</th>\n",
       "      <th>education</th>\n",
       "      <th>education-num</th>\n",
       "      <th>marital-status</th>\n",
       "      <th>occupation</th>\n",
       "      <th>relationship</th>\n",
       "      <th>race</th>\n",
       "      <th>sex</th>\n",
       "      <th>capital-gain</th>\n",
       "      <th>capital-loss</th>\n",
       "      <th>hours-per-week</th>\n",
       "      <th>native-country</th>\n",
       "      <th>income</th>\n",
       "    </tr>\n",
       "  </thead>\n",
       "  <tbody>\n",
       "    <tr>\n",
       "      <th>0</th>\n",
       "      <td>39</td>\n",
       "      <td>State-gov</td>\n",
       "      <td>77516</td>\n",
       "      <td>Bachelors</td>\n",
       "      <td>13</td>\n",
       "      <td>Never-married</td>\n",
       "      <td>Adm-clerical</td>\n",
       "      <td>Not-in-family</td>\n",
       "      <td>White</td>\n",
       "      <td>Male</td>\n",
       "      <td>2174</td>\n",
       "      <td>0</td>\n",
       "      <td>40</td>\n",
       "      <td>United-States</td>\n",
       "      <td>&lt;=50K</td>\n",
       "    </tr>\n",
       "    <tr>\n",
       "      <th>1</th>\n",
       "      <td>50</td>\n",
       "      <td>Self-emp-not-inc</td>\n",
       "      <td>83311</td>\n",
       "      <td>Bachelors</td>\n",
       "      <td>13</td>\n",
       "      <td>Married-civ-spouse</td>\n",
       "      <td>Exec-managerial</td>\n",
       "      <td>Husband</td>\n",
       "      <td>White</td>\n",
       "      <td>Male</td>\n",
       "      <td>0</td>\n",
       "      <td>0</td>\n",
       "      <td>13</td>\n",
       "      <td>United-States</td>\n",
       "      <td>&lt;=50K</td>\n",
       "    </tr>\n",
       "    <tr>\n",
       "      <th>2</th>\n",
       "      <td>38</td>\n",
       "      <td>Private</td>\n",
       "      <td>215646</td>\n",
       "      <td>HS-grad</td>\n",
       "      <td>9</td>\n",
       "      <td>Divorced</td>\n",
       "      <td>Handlers-cleaners</td>\n",
       "      <td>Not-in-family</td>\n",
       "      <td>White</td>\n",
       "      <td>Male</td>\n",
       "      <td>0</td>\n",
       "      <td>0</td>\n",
       "      <td>40</td>\n",
       "      <td>United-States</td>\n",
       "      <td>&lt;=50K</td>\n",
       "    </tr>\n",
       "    <tr>\n",
       "      <th>3</th>\n",
       "      <td>53</td>\n",
       "      <td>Private</td>\n",
       "      <td>234721</td>\n",
       "      <td>11th</td>\n",
       "      <td>7</td>\n",
       "      <td>Married-civ-spouse</td>\n",
       "      <td>Handlers-cleaners</td>\n",
       "      <td>Husband</td>\n",
       "      <td>Black</td>\n",
       "      <td>Male</td>\n",
       "      <td>0</td>\n",
       "      <td>0</td>\n",
       "      <td>40</td>\n",
       "      <td>United-States</td>\n",
       "      <td>&lt;=50K</td>\n",
       "    </tr>\n",
       "    <tr>\n",
       "      <th>4</th>\n",
       "      <td>28</td>\n",
       "      <td>Private</td>\n",
       "      <td>338409</td>\n",
       "      <td>Bachelors</td>\n",
       "      <td>13</td>\n",
       "      <td>Married-civ-spouse</td>\n",
       "      <td>Prof-specialty</td>\n",
       "      <td>Wife</td>\n",
       "      <td>Black</td>\n",
       "      <td>Female</td>\n",
       "      <td>0</td>\n",
       "      <td>0</td>\n",
       "      <td>40</td>\n",
       "      <td>Cuba</td>\n",
       "      <td>&lt;=50K</td>\n",
       "    </tr>\n",
       "  </tbody>\n",
       "</table>\n",
       "</div>"
      ],
      "text/plain": [
       "   age          workclass  fnlwgt   education  education-num  \\\n",
       "0   39          State-gov   77516   Bachelors             13   \n",
       "1   50   Self-emp-not-inc   83311   Bachelors             13   \n",
       "2   38            Private  215646     HS-grad              9   \n",
       "3   53            Private  234721        11th              7   \n",
       "4   28            Private  338409   Bachelors             13   \n",
       "\n",
       "        marital-status          occupation    relationship    race      sex  \\\n",
       "0        Never-married        Adm-clerical   Not-in-family   White     Male   \n",
       "1   Married-civ-spouse     Exec-managerial         Husband   White     Male   \n",
       "2             Divorced   Handlers-cleaners   Not-in-family   White     Male   \n",
       "3   Married-civ-spouse   Handlers-cleaners         Husband   Black     Male   \n",
       "4   Married-civ-spouse      Prof-specialty            Wife   Black   Female   \n",
       "\n",
       "   capital-gain  capital-loss  hours-per-week  native-country  income  \n",
       "0          2174             0              40   United-States   <=50K  \n",
       "1             0             0              13   United-States   <=50K  \n",
       "2             0             0              40   United-States   <=50K  \n",
       "3             0             0              40   United-States   <=50K  \n",
       "4             0             0              40            Cuba   <=50K  "
      ]
     },
     "execution_count": 15,
     "metadata": {},
     "output_type": "execute_result"
    }
   ],
   "source": [
    "import pandas as pd\n",
    "\n",
    "Data_set = pd.read_csv('C://Users//Network Computer//Desktop//DATA Enginnering//Google Colab Dataset//adult.data', header=None, names=(['age', 'workclass', 'fnlwgt', 'education', 'education-num', 'marital-status', 'occupation', 'relationship', 'race', 'sex', 'capital-gain', 'capital-loss', 'hours-per-week', 'native-country', 'income']))\n",
    "\n",
    "Data_set.head()"
   ]
  },
  {
   "cell_type": "code",
   "execution_count": 4,
   "id": "33174e01",
   "metadata": {},
   "outputs": [
    {
     "name": "stdout",
     "output_type": "stream",
     "text": [
      "This is your:  White                 27816\n",
      " Black                  3124\n",
      " Asian-Pac-Islander     1039\n",
      " Amer-Indian-Eskimo      311\n",
      " Other                   271\n",
      "Name: race, dtype: int64\n"
     ]
    }
   ],
   "source": [
    "# 1) How many people of each race are represented in this dataset?\n",
    "\n",
    "print(f\"This is your: {Data_set['race'].value_counts()}\")"
   ]
  },
  {
   "cell_type": "code",
   "execution_count": 5,
   "id": "4e24cfee",
   "metadata": {},
   "outputs": [
    {
     "name": "stdout",
     "output_type": "stream",
     "text": [
      "This is the average age of Men : 38.58164675532078\n"
     ]
    }
   ],
   "source": [
    "# 2) What is the average age of men?\n",
    "\n",
    "Men = Data_set[Data_set['sex'] == ' Male']\n",
    "\n",
    "Avg_age = Data_set['age'].mean()\n",
    "print(f\"This is the average age of Men : {Avg_age}\")"
   ]
  },
  {
   "cell_type": "code",
   "execution_count": 6,
   "id": "6b8c4440",
   "metadata": {},
   "outputs": [
    {
     "name": "stdout",
     "output_type": "stream",
     "text": [
      "This is the percentage of Bachelor's  : 16.44605509658794\n"
     ]
    }
   ],
   "source": [
    "# 3) What is the percentage of people who have a Bachelor's degree?\n",
    "\n",
    "total_b = Data_set['education'].count()\n",
    "percentage = Data_set['education'].value_counts()[' Bachelors']\n",
    "\n",
    "fresult = (percentage / total_b) * 100\n",
    "print(f\"This is the percentage of Bachelor's  : {fresult}\")"
   ]
  },
  {
   "cell_type": "code",
   "execution_count": 7,
   "id": "69850668",
   "metadata": {},
   "outputs": [
    {
     "name": "stdout",
     "output_type": "stream",
     "text": [
      "74.09200968523002\n"
     ]
    }
   ],
   "source": [
    "# 4) What percentage of people with advanced education (Bachelors, Masters, or Doctorate) make more than 50K?\n",
    "\n",
    "advanced_edu = Data_set[Data_set['education'].isin(['Bachelors', 'Masters', ' Doctorate'])]\n",
    "\n",
    "more_income = advanced_edu[advanced_edu['income'] == ' >50K']\n",
    "\n",
    "per = (len(more_income) / len(advanced_edu)) * 100\n",
    "print(per)\n"
   ]
  },
  {
   "cell_type": "code",
   "execution_count": 8,
   "id": "636a7b36",
   "metadata": {},
   "outputs": [
    {
     "name": "stdout",
     "output_type": "stream",
     "text": [
      "24.080955744602438%\n"
     ]
    }
   ],
   "source": [
    "# 5) What percentage of people without advanced education make more than 50K?\n",
    "\n",
    "without_advanced_edu = Data_set[~Data_set['education'].isin(['Bachelors', 'Masters', 'Doctorate'])]\n",
    "\n",
    "more_incomes = without_advanced_edu[without_advanced_edu['income'] == ' >50K']\n",
    "\n",
    "perc = (len(more_incomes) / len(without_advanced_edu)) * 100\n",
    "print(f\"{perc}%\")\n"
   ]
  },
  {
   "cell_type": "code",
   "execution_count": null,
   "id": "1ccbd4dd",
   "metadata": {},
   "outputs": [],
   "source": [
    "# 6) What is the minimum number of hours a person works per week?\n",
    "\n",
    "\n",
    "Min_work_hrs = Data_set['hours-per-week'].min()\n",
    "print(Min_work_hrs)"
   ]
  },
  {
   "cell_type": "code",
   "execution_count": 11,
   "id": "0060259c",
   "metadata": {},
   "outputs": [
    {
     "name": "stdout",
     "output_type": "stream",
     "text": [
      "This is the percentage of people who work minimum number of hrs and have salary of more than 50K : 10.0%\n"
     ]
    }
   ],
   "source": [
    "# 7) What percentage of the people who work the minimum number of hours per week have a salary of more than 50K?\n",
    "\n",
    "Min_hrs_per_week = Data_set['hours-per-week'].min()\n",
    "min_hrs_workers = Data_set[Data_set['hours-per-week'] == Min_hrs_per_week]\n",
    "\n",
    "total_hrs_per_week = len(min_hrs_workers)\n",
    "\n",
    "high_earners = min_hrs_workers[min_hrs_workers['income'] == ' >50K']\n",
    "\n",
    "num_high_earners_min_hrs = len(high_earners)\n",
    "\n",
    "percentage_high_earners = (num_high_earners_min_hrs  / total_hrs_per_week) * 100\n",
    "print(f'This is the percentage of people who work minimum number of hrs and have salary of more than 50K : {percentage_high_earners}%')"
   ]
  },
  {
   "cell_type": "code",
   "execution_count": 12,
   "id": "4f646990",
   "metadata": {},
   "outputs": [
    {
     "name": "stdout",
     "output_type": "stream",
     "text": [
      " Iran\n",
      "41.86046511627907\n"
     ]
    }
   ],
   "source": [
    "# 8) What country has the highest percentage of people that earn >50K and what is that percentage?\n",
    "\n",
    "Data_set['income'] = Data_set['income'].str.strip()\n",
    "\n",
    "Highest_earning_country = Data_set[Data_set['income'] == '>50K']['native-country'].value_counts()\n",
    "\n",
    "total_countries = Data_set['native-country'].value_counts()\n",
    "\n",
    "percentage_country = (Highest_earning_country / total_countries) * 100\n",
    "\n",
    "highest_percentage_country = percentage_country.idxmax()\n",
    "highest_percentage_value = percentage_country.max()\n",
    "\n",
    "print(highest_percentage_country)\n",
    "print(highest_percentage_value)\n"
   ]
  },
  {
   "cell_type": "code",
   "execution_count": 16,
   "id": "d8e1ac62",
   "metadata": {},
   "outputs": [
    {
     "name": "stdout",
     "output_type": "stream",
     "text": [
      " Prof-specialty\n"
     ]
    }
   ],
   "source": [
    "# 9) Identify the most popular occupation for those who earn >50K in India?\n",
    "\n",
    "\n",
    "indian_occupation = Data_set[Data_set['native-country'] == ' India']\n",
    "\n",
    "popular_occupation = indian_occupation[indian_occupation['income'] == ' >50K']['occupation'].value_counts().idxmax()\n",
    "\n",
    "print(popular_occupation)\n",
    "\n"
   ]
  },
  {
   "cell_type": "code",
   "execution_count": null,
   "id": "96c9e12d",
   "metadata": {},
   "outputs": [],
   "source": []
  },
  {
   "cell_type": "code",
   "execution_count": null,
   "id": "6b1a686f",
   "metadata": {},
   "outputs": [],
   "source": []
  }
 ],
 "metadata": {
  "kernelspec": {
   "display_name": "Python 3 (ipykernel)",
   "language": "python",
   "name": "python3"
  },
  "language_info": {
   "codemirror_mode": {
    "name": "ipython",
    "version": 3
   },
   "file_extension": ".py",
   "mimetype": "text/x-python",
   "name": "python",
   "nbconvert_exporter": "python",
   "pygments_lexer": "ipython3",
   "version": "3.9.13"
  }
 },
 "nbformat": 4,
 "nbformat_minor": 5
}
