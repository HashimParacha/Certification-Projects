import pandas as pd

Data_set = pd.read_csv('C://Users//adult.data', header=None, names=(['age', 'workclass', 'fnlwgt', 'education', 'education-num', 'marital-status', 'occupation', 'relationship', 'race', 'sex', 'capital-gain', 'capital-loss', 'hours-per-week', 'native-country', 'income']))
Data_set.head()

# 1) How many people of each race are represented in this dataset?
print(f"This is your: {Data_set['race'].value_counts()}")

# 2) What is the average age of men?
Men = Data_set[Data_set['sex'] == ' Male']

Avg_age = Men['age'].mean()
print(f"This is the average age of Men : {Avg_age}")

# 3) What is the percentage of people who have a Bachelor's degree?
total_b = Data_set['education'].count()
percentage = Data_set['education'].value_counts()[' Bachelors']

fresult = (percentage / total_b) * 100
print(f"This is the percentage of Bachelor's  : {fresult}")

# 4) What percentage of people with advanced education (Bachelors, Masters, or Doctorate) make more than 50K?
advanced_edu = Data_set[Data_set['education'].isin(['Bachelors', 'Masters', ' Doctorate'])]

more_income = advanced_edu[advanced_edu['income'] == ' >50K']

per = (len(more_income) / len(advanced_edu)) * 100
print(per)

# 5) What percentage of people without advanced education make more than 50K?
without_advanced_edu = Data_set[~Data_set['education'].isin(['Bachelors', 'Masters', 'Doctorate'])]

more_incomes = without_advanced_edu[without_advanced_edu['income'] == ' >50K']

perc = (len(more_incomes) / len(without_advanced_edu)) * 100
print(f"{perc}%")

# 6) What is the minimum number of hours a person works per week?
Min_work_hrs = Data_set['hours-per-week'].min()
print(Min_work_hrs)

# 7) What percentage of the people who work the minimum number of hours per week have a salary of more than 50K?
Min_hrs_per_week = Data_set['hours-per-week'].min()
min_hrs_workers = Data_set[Data_set['hours-per-week'] == Min_hrs_per_week]

total_hrs_per_week = len(min_hrs_workers)

high_earners = min_hrs_workers[min_hrs_workers['income'] == ' >50K']

num_high_earners_min_hrs = len(high_earners)

percentage_high_earners = (num_high_earners_min_hrs  / total_hrs_per_week) * 100
print(f'This is the percentage of people who work minimum number of hrs and have salary of more than 50K : {percentage_high_earners}%')


# 8) What country has the highest percentage of people that earn >50K and what is that percentage?
Data_set['income'] = Data_set['income'].str.strip()

Highest_earning_country = Data_set[Data_set['income'] == '>50K']['native-country'].value_counts()

total_countries = Data_set['native-country'].value_counts()

percentage_country = (Highest_earning_country / total_countries) * 100

highest_percentage_country = percentage_country.idxmax()
highest_percentage_value = percentage_country.max()

print(highest_percentage_country)
print(highest_percentage_value)

# 9) Identify the most popular occupation for those who earn >50K in India?
indian_occupation = Data_set[Data_set['native-country'] == ' India']

popular_occupation = indian_occupation[indian_occupation['income'] == ' >50K']['occupation'].value_counts().idxmax()

print(popular_occupation)

